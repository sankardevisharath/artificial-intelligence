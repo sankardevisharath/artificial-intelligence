{
  "cells": [
    {
      "cell_type": "markdown",
      "metadata": {
        "id": "view-in-github",
        "colab_type": "text"
      },
      "source": [
        "<a href=\"https://colab.research.google.com/github/sankardevisharath/artificial-intelligence/blob/main/notebooks/eda/data-distribution.ipynb\" target=\"_parent\"><img src=\"https://colab.research.google.com/assets/colab-badge.svg\" alt=\"Open In Colab\"/></a>"
      ]
    },
    {
      "cell_type": "markdown",
      "source": [
        "# Understanding Distributions\n",
        "Source Article: [Probability Distributions by Pier Paolo Ippolito](https://www.kdnuggets.com/2020/02/probability-distributions-data-science.html)"
      ],
      "metadata": {
        "id": "tQ2ueSdcgMux"
      }
    },
    {
      "cell_type": "code",
      "execution_count": 1,
      "metadata": {
        "id": "BIBtzmNL2tbL"
      },
      "outputs": [],
      "source": [
        "import pandas as pd\n",
        "import numpy as np\n",
        "import matplotlib.pyplot as plt\n",
        "import scipy.stats as stats\n",
        "import seaborn as sns"
      ]
    },
    {
      "cell_type": "markdown",
      "source": [
        "## Bernoulli Distribution"
      ],
      "metadata": {
        "id": "WX8d7T59g5bq"
      }
    },
    {
      "cell_type": "code",
      "source": [
        "probs = np.array([0.75, 0.25])\n",
        "faces = [0, 1]\n",
        "plt.bar(faces, probs)\n",
        "plt.title('Loaded coin Bernoulli Distribution', fontsize=12)\n",
        "plt.ylabel('Probability', fontsize=12)\n",
        "plt.xlabel('Loaded coin outcome', fontsize=12)\n",
        "axes=plt.gca()\n",
        "axes.set_ylim(0, 1)\n"
      ],
      "metadata": {
        "colab": {
          "base_uri": "https://localhost:8080/",
          "height": 315
        },
        "id": "LlP7dkhRdeT0",
        "outputId": "fce188e0-5bba-4024-c488-a362498ae9e7"
      },
      "execution_count": 6,
      "outputs": [
        {
          "output_type": "execute_result",
          "data": {
            "text/plain": [
              "(0.0, 1.0)"
            ]
          },
          "metadata": {},
          "execution_count": 6
        },
        {
          "output_type": "display_data",
          "data": {
            "text/plain": [
              "<Figure size 432x288 with 1 Axes>"
            ],
            "image/png": "[encoded data removed]"
          },
          "metadata": {
            "needs_background": "light"
          }
        }
      ]
    },
    {
      "cell_type": "markdown",
      "source": [
        "## Uniform Distribution"
      ],
      "metadata": {
        "id": "TY_z8psnhAJU"
      }
    },
    {
      "cell_type": "code",
      "source": [
        "probs = np.full(6, 1/6)\n",
        "faces = [1,2,3,4,5,6]\n",
        "plt.bar(faces, probs)\n",
        "plt.title('Fair Dice Uniform Distribution', fontsize=12)\n",
        "plt.xlabel('Dice Roll Outcome', fontsize=12)\n",
        "plt.ylabel('Probability', fontsize=12)\n",
        "axes=plt.gca()\n",
        "axes.set_ylim(0,1)"
      ],
      "metadata": {
        "colab": {
          "base_uri": "https://localhost:8080/",
          "height": 315
        },
        "id": "3hYm3Tm5hC9r",
        "outputId": "568d2df3-b7fe-4327-db2c-d532fdda14e8"
      },
      "execution_count": 9,
      "outputs": [
        {
          "output_type": "execute_result",
          "data": {
            "text/plain": [
              "(0.0, 1.0)"
            ]
          },
          "metadata": {},
          "execution_count": 9
        },
        {
          "output_type": "display_data",
          "data": {
            "text/plain": [
              "<Figure size 432x288 with 1 Axes>"
            ],
            "image/png": "[encoded data removed]"
          },
          "metadata": {
            "needs_background": "light"
          }
        }
      ]
    }
  ],
  "metadata": {
    "kernelspec": {
      "display_name": "Python 3.9.6 64-bit ('3.9.6')",
      "language": "python",
      "name": "python3"
    },
    "language_info": {
      "codemirror_mode": {
        "name": "ipython",
        "version": 3
      },
      "file_extension": ".py",
      "mimetype": "text/x-python",
      "name": "python",
      "nbconvert_exporter": "python",
      "pygments_lexer": "ipython3",
      "version": "3.9.6"
    },
    "orig_nbformat": 4,
    "vscode": {
      "interpreter": {
        "hash": "67c931eb54170beeae43095c4a126798ed8e9104886ba7b84e2d63674cd41c45"
      }
    },
    "colab": {
      "name": "data-distribution.ipynb",
      "provenance": [],
      "include_colab_link": true
    }
  },
  "nbformat": 4,
  "nbformat_minor": 0
}